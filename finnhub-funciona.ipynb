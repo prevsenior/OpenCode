{
 "cells": [
  {
   "cell_type": "code",
   "execution_count": 23,
   "metadata": {},
   "outputs": [
    {
     "name": "stdout",
     "output_type": "stream",
     "text": [
      "{'c': 226.34, 'd': 4.79, 'dp': 2.162, 'h': 226.45, 'l': 221.65, 'o': 221.65, 'pc': 221.55, 't': 1720209601}\n"
     ]
    }
   ],
   "source": [
    "import finnhub\n",
    "\n",
    "# Definir a chave de API diretamente\n",
    "api_key = \"cq4m7shr01qhh2h638c0cq4m7shr01qhh2h638cg\"\n",
    "\n",
    "# Configurar o cliente Finnhub\n",
    "finnhub_client = finnhub.Client(api_key=api_key)\n",
    "\n",
    "try:\n",
    "    # Obter a cotação atual de uma ação\n",
    "    quote = finnhub_client.quote('AAPL')\n",
    "    print(quote)\n",
    "except finnhub.FinnhubAPIException as e:\n",
    "    print(f\"Erro ao acessar o endpoint: {e}\")\n"
   ]
  }
 ],
 "metadata": {
  "kernelspec": {
   "display_name": "Python 3",
   "language": "python",
   "name": "python3"
  },
  "language_info": {
   "codemirror_mode": {
    "name": "ipython",
    "version": 3
   },
   "file_extension": ".py",
   "mimetype": "text/x-python",
   "name": "python",
   "nbconvert_exporter": "python",
   "pygments_lexer": "ipython3",
   "version": "3.12.4"
  }
 },
 "nbformat": 4,
 "nbformat_minor": 2
}
